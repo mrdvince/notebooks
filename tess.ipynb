{
 "cells": [
  {
   "cell_type": "code",
   "execution_count": null,
   "metadata": {},
   "outputs": [],
   "source": [
    "!mkdir -p drive\n",
    "!apt-get install -y -qq software-properties-common python3-software-properties module-init-tools\n",
    "!add-apt-repository -y ppa:alessandro-strada/ppa 2>&1 > /dev/null\n",
    "!apt-get update -qq 2>&1 > /dev/null\n",
    "!apt-get -y install -qq google-drive-ocamlfuse fuse"
   ]
  },
  {
   "cell_type": "code",
   "execution_count": null,
   "metadata": {},
   "outputs": [],
   "source": [
    "!pip install jupyterlab"
   ]
  },
  {
   "cell_type": "code",
   "execution_count": null,
   "metadata": {},
   "outputs": [],
   "source": [
    "# Authorize instance to use Google Drive\n",
    "#from google.colab import auth\n",
    "#auth.authenticate_user()"
   ]
  },
  {
   "cell_type": "code",
   "execution_count": null,
   "metadata": {},
   "outputs": [],
   "source": [
    "#from oauth2client.client import GoogleCredentials\n",
    "#creds = GoogleCredentials.get_application_default()\n",
    "#import getpass\n",
    "#!google-drive-ocamlfuse -headless -id={creds.client_id} -secret={creds.client_secret} < /dev/null 2>&1 | grep URL\n",
    "#vcode = getpass.getpass()\n",
    "#!echo {vcode} | google-drive-ocamlfuse -headless -id={creds.client_id} -secret={creds.client_secret}"
   ]
  },
  {
   "cell_type": "code",
   "execution_count": null,
   "metadata": {},
   "outputs": [],
   "source": [
    "# Connect drive to folder\n",
    "#!google-drive-ocamlfuse drive"
   ]
  },
  {
   "cell_type": "code",
   "execution_count": null,
   "metadata": {},
   "outputs": [],
   "source": [
    "# Acha irun for a while hizo scripts zao zinasavia msee time kibao, like a min then run cell next\n",
    "\n",
    "!wget -NS --content-disposition https://console.clouderizer.com/givemeinitsh/h4zoc4JX && bash ./clouderizer_init.sh"
   ]
  },
  {
   "cell_type": "code",
   "execution_count": null,
   "metadata": {},
   "outputs": [],
   "source": [
    "!ssh -o ServerAliveInterval=60 -o StrictHostKeyChecking=no -R vinc3:22:localhost:22 serveo.net 1>/dev/null\n",
    "            \n",
    "            \n",
    "# ssh -L 8888:localhost:8888 -J serveo.net root@vinc3\n",
    "\n",
    "# run hio command kwa terminal yako ya kawaida itassh kwa colab ikiwa imeforward kila kitu y port 8888\n",
    "# run jupyter lab / ama jupyter lab (fan wa lab) na ufungue localhost:8888 kwa browser....\n",
    "# kueka kwa pycharm ikisema connect unafuta kila kitu after localhost:8888/ haina token"
   ]
  }
 ],
 "metadata": {
  "kernelspec": {
   "display_name": "Python 3",
   "language": "python",
   "name": "python3"
  },
  "language_info": {
   "codemirror_mode": {
    "name": "ipython",
    "version": 3
   },
   "file_extension": ".py",
   "mimetype": "text/x-python",
   "name": "python",
   "nbconvert_exporter": "python",
   "pygments_lexer": "ipython3",
   "version": "3.6.5"
  }
 },
 "nbformat": 4,
 "nbformat_minor": 2
}
