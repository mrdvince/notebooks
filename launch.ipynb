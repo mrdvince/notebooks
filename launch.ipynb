{
 "cells": [
  {
   "cell_type": "code",
   "execution_count": null,
   "metadata": {
    "colab": {},
    "colab_type": "code",
    "id": "RfKvVcaoVP80"
   },
   "outputs": [],
   "source": [
    "import time\n",
    "from oauth2client.client import GoogleCredentials\n",
    "import getpass\n"
   ]
  },
  {
   "cell_type": "code",
   "execution_count": null,
   "metadata": {
    "colab": {},
    "colab_type": "code",
    "id": "a5yN7MQ4OloP"
   },
   "outputs": [],
   "source": [
    "def dependencies():\n",
    "  !mkdir -p drive\n",
    "  !apt-get install -y -qq software-properties-common python3-software-properties module-init-tools\n",
    "  !add-apt-repository -y ppa:alessandro-strada/ppa 2>&1 > /dev/null\n",
    "  !apt-get update -qq 2>&1 > /dev/null\n",
    "  !apt-get -y install -qq google-drive-ocamlfuse fuse\n",
    "\n",
    "def auth():\n",
    "  from google.colab import auth\n",
    "  auth.authenticate_user()\n",
    "  \n",
    "def oauth():\n",
    "  creds = GoogleCredentials.get_application_default()\n",
    "  !google-drive-ocamlfuse -headless -id={creds.client_id} -secret={creds.client_secret} < /dev/null 2>&1 | grep URL\n",
    "  vcode = getpass.getpass()\n",
    "  !echo {vcode} | google-drive-ocamlfuse -headless -id={creds.client_id} -secret={creds.client_secret}\n",
    "\n",
    "def ocamlfuse():\n",
    "  !google-drive-ocamlfuse drive\n",
    "  \n",
    "def bunch_of_functions():\n",
    "  dependencies()\n",
    "  auth()\n",
    "  oauth()\n",
    "  ocamlfuse()\n",
    "\n",
    "def launch():\n",
    "  bunch_of_functions()\n",
    "  !wget -NS --content-disposition https://console.clouderizer.com/givemeinitsh/h4zoc4JX && bash ./clouderizer_init.sh 2>&1 > /dev/null\n",
    "  time.sleep(45)\n",
    "  !rm -rf *.jar *.sh *.service updatestatus*\n",
    "  get_ipython().system_raw('ssh -o ServerAliveInterval=60 -o StrictHostKeyChecking=no -R vinc3:80:localhost:8888 -R  vinc3:22:localhost:22 serveo.net 1>/dev/null &')\n",
    "  \n",
    "launch()\n",
    "print(\"**************Starting Notebook**************\")\n",
    "!jupyter lab --port 8888 1>/dev/null & "
   ]
  }
 ],
 "metadata": {
  "accelerator": "GPU",
  "colab": {
   "collapsed_sections": [],
   "name": "launch.ipynb",
   "private_outputs": true,
   "provenance": [],
   "version": "0.3.2"
  },
  "kernelspec": {
   "display_name": "Python 3",
   "language": "python",
   "name": "python3"
  },
  "language_info": {
   "codemirror_mode": {
    "name": "ipython",
    "version": 3
   },
   "file_extension": ".py",
   "mimetype": "text/x-python",
   "name": "python",
   "nbconvert_exporter": "python",
   "pygments_lexer": "ipython3",
   "version": "3.6.5"
  }
 },
 "nbformat": 4,
 "nbformat_minor": 2
}
