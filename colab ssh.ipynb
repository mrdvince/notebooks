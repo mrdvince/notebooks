{
 "cells": [
  {
   "cell_type": "code",
   "execution_count": null,
   "metadata": {
    "colab": {},
    "colab_type": "code",
    "id": "G13RmUiM-s-7"
   },
   "outputs": [],
   "source": [
    "!jupyter notebook list | grep 8888"
   ]
  },
  {
   "cell_type": "code",
   "execution_count": 5,
   "metadata": {
    "colab": {
     "base_uri": "https://localhost:8080/",
     "height": 34
    },
    "colab_type": "code",
    "id": "uyMz76f9-gnl",
    "outputId": "96ee9b62-4248-466c-a58b-82eedb967e7a"
   },
   "outputs": [
    {
     "name": "stdout",
     "output_type": "stream",
     "text": [
      "^C\n"
     ]
    }
   ],
   "source": [
    "\n",
    "get_ipython().system_raw('jupyter lab &')\n",
    "!ssh -o ServerAliveInterval=60 -o StrictHostKeyChecking=no -R test:80:localhost:8888 -R  test:22:localhost:22 serveo.net 1>/dev/null\n",
    "/usr/etc/jupyter/jupyter_notebook_config.json"
   ]
  },
  {
   "cell_type": "markdown",
   "metadata": {
    "colab_type": "text",
    "id": "k3xLErKcANaN"
   },
   "source": [
    "/usr/etc/jupyter/jupyter_notebook_config.json\n",
    "/usr/etc/jupyter/jupyter_notebook_config.json"
   ]
  },
  {
   "cell_type": "code",
   "execution_count": 6,
   "metadata": {
    "colab": {
     "base_uri": "https://localhost:8080/",
     "height": 136
    },
    "colab_type": "code",
    "id": "jMcMKFP_ASa9",
    "outputId": "73d6c0a9-2b66-4032-c83b-ebab537e3b70"
   },
   "outputs": [
    {
     "name": "stdout",
     "output_type": "stream",
     "text": [
      "E: Package 'python-software-properties' has no installation candidate\n",
      "Selecting previously unselected package google-drive-ocamlfuse.\n",
      "(Reading database ... 110897 files and directories currently installed.)\n",
      "Preparing to unpack .../google-drive-ocamlfuse_0.7.1-0ubuntu3~ubuntu18.04.1_amd64.deb ...\n",
      "Unpacking google-drive-ocamlfuse (0.7.1-0ubuntu3~ubuntu18.04.1) ...\n",
      "Setting up google-drive-ocamlfuse (0.7.1-0ubuntu3~ubuntu18.04.1) ...\n",
      "Processing triggers for man-db (2.8.3-2ubuntu0.1) ...\n"
     ]
    }
   ],
   "source": [
    "# Create drive folder\n",
    "!mkdir -p drive\n",
    "!apt-get install -y -qq software-properties-common python-software-properties module-init-tools\n",
    "!add-apt-repository -y ppa:alessandro-strada/ppa 2>&1 > /dev/null\n",
    "!apt-get update -qq 2>&1 > /dev/null\n",
    "!apt-get -y install -qq google-drive-ocamlfuse fuse\n"
   ]
  },
  {
   "cell_type": "code",
   "execution_count": 7,
   "metadata": {
    "colab": {
     "base_uri": "https://localhost:8080/",
     "height": 34
    },
    "colab_type": "code",
    "id": "vq9TtqYqAWsm",
    "outputId": "a704aa0d-8b0e-47ca-9de0-931bb4380b71"
   },
   "outputs": [
    {
     "data": {
      "text/plain": [
       "'sha1:728dd5b1c046:838d7378b3993ed039b1f6331a38ff9927633edc'"
      ]
     },
     "execution_count": 7,
     "metadata": {
      "tags": []
     },
     "output_type": "execute_result"
    }
   ],
   "source": [
    "from IPython.lib import passwd\n",
    "password = passwd(\"s3cr3t!!\")\n",
    "password"
   ]
  },
  {
   "cell_type": "code",
   "execution_count": null,
   "metadata": {
    "colab": {},
    "colab_type": "code",
    "id": "db37kF1jAZQV"
   },
   "outputs": [],
   "source": [
    "jupyter_running = !jupyter notebook list | grep 8888\n",
    "if not jupyter_running:\n",
    "  !mkdir -p /content/.jupyter\n",
    "  !echo '{ \"NotebookApp\": { \"password\": password } }' > /usr/etc/jupyter/jupyter_notebook_config.json\n",
    "#get_ipython().system_raw('jupyter lab &')\n",
    "\n",
    "#!ssh -o ServerAliveInterval=60 -o StrictHostKeyChecking=no -R vinc3:80:localhost:8888 serveo.net 1>/dev/null"
   ]
  },
  {
   "cell_type": "code",
   "execution_count": 9,
   "metadata": {
    "colab": {
     "base_uri": "https://localhost:8080/",
     "height": 136
    },
    "colab_type": "code",
    "id": "TqK5w7EcAslH",
    "outputId": "987cdbc4-a799-4e9b-e231-63001f484364"
   },
   "outputs": [
    {
     "name": "stdout",
     "output_type": "stream",
     "text": [
      "{\n",
      "  \"NotebookApp\": {\n",
      "    \"nbserver_extensions\": {\n",
      "      \"jupyterlab\": true\n",
      "    }\n",
      "  }\n",
      "}"
     ]
    }
   ],
   "source": [
    "!cat /usr/etc/jupyter/jupyter_notebook_config.json"
   ]
  },
  {
   "cell_type": "code",
   "execution_count": null,
   "metadata": {
    "colab": {
     "base_uri": "https://localhost:8080/",
     "height": 65
    },
    "colab_type": "code",
    "id": "ocD9sfRoAwlK",
    "outputId": "2f0f0b88-70ff-4cdb-cab1-a0339d7b8f76"
   },
   "outputs": [
    {
     "name": "stdout",
     "output_type": "stream",
     "text": [
      "Hi there\n"
     ]
    }
   ],
   "source": [
    "!ssh -o ServerAliveInterval=60 -o StrictHostKeyChecking=no -R test:80:localhost:8888 -R  test:22:localhost:22 serveo.net 1>/dev/null"
   ]
  }
 ],
 "metadata": {
  "accelerator": "GPU",
  "colab": {
   "collapsed_sections": [],
   "name": "working.ipynb",
   "provenance": [],
   "version": "0.3.2"
  },
  "kernelspec": {
   "display_name": "Python 3",
   "language": "python",
   "name": "python3"
  },
  "language_info": {
   "codemirror_mode": {
    "name": "ipython",
    "version": 3
   },
   "file_extension": ".py",
   "mimetype": "text/x-python",
   "name": "python",
   "nbconvert_exporter": "python",
   "pygments_lexer": "ipython3",
   "version": "3.6.5"
  }
 },
 "nbformat": 4,
 "nbformat_minor": 2
}
