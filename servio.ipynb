{
 "cells": [
  {
   "cell_type": "code",
   "execution_count": 0,
   "metadata": {
    "colab": {},
    "colab_type": "code",
    "id": "JKYoV3DEMxzY"
   },
   "outputs": [],
   "source": [
    "!pip install jupyterlab"
   ]
  },
  {
   "cell_type": "code",
   "execution_count": 0,
   "metadata": {
    "colab": {},
    "colab_type": "code",
    "id": "5kVjbWL7OZG_"
   },
   "outputs": [],
   "source": [
    "# Create drive folder\n",
    "!mkdir -p drive\n",
    "!apt-get install -y -qq software-properties-common python3-software-properties module-init-tools\n",
    "!add-apt-repository -y ppa:alessandro-strada/ppa 2>&1 > /dev/null\n",
    "!apt-get update -qq 2>&1 > /dev/null\n",
    "!apt-get -y install -qq google-drive-ocamlfuse fuse\n"
   ]
  },
  {
   "cell_type": "code",
   "execution_count": 0,
   "metadata": {
    "colab": {},
    "colab_type": "code",
    "id": "JlaNw-0fO1L6"
   },
   "outputs": [],
   "source": [
    "# Authorize instance to use Google Drive\n",
    "#from google.colab import auth\n",
    "#auth.authenticate_user()"
   ]
  },
  {
   "cell_type": "code",
   "execution_count": 0,
   "metadata": {
    "colab": {},
    "colab_type": "code",
    "id": "AAWnC3uIO4Wj"
   },
   "outputs": [],
   "source": [
    "#from oauth2client.client import GoogleCredentials\n",
    "#creds = GoogleCredentials.get_application_default()\n",
    "#import getpass\n",
    "#!google-drive-ocamlfuse -headless -id={creds.client_id} -secret={creds.client_secret} < /dev/null 2>&1 | grep URL\n",
    "#vcode = getpass.getpass()\n",
    "#!echo {vcode} | google-drive-ocamlfuse -headless -id={creds.client_id} -secret={creds.client_secret}\n"
   ]
  },
  {
   "cell_type": "code",
   "execution_count": 0,
   "metadata": {
    "colab": {},
    "colab_type": "code",
    "id": "9clM6oxMO737"
   },
   "outputs": [],
   "source": [
    "# Connect drive to folder\n",
    "#!google-drive-ocamlfuse drive"
   ]
  },
  {
   "cell_type": "code",
   "execution_count": 0,
   "metadata": {
    "colab": {
     "base_uri": "https://localhost:8080/",
     "height": 34
    },
    "colab_type": "code",
    "id": "4GgylHBCPKir",
    "outputId": "4bd2e9e3-e65b-4caa-d608-2a2d8d6c6f31"
   },
   "outputs": [
    {
     "data": {
      "text/plain": [
       "'sha1:a24b61282fe0:7bd97fa70a1a0d1033e195dbadcaba35b6f46b62'"
      ]
     },
     "execution_count": 5,
     "metadata": {
      "tags": []
     },
     "output_type": "execute_result"
    }
   ],
   "source": [
    "from IPython.lib import passwd\n",
    "password = passwd(\"s3cr3t!!\")\n",
    "password"
   ]
  },
  {
   "cell_type": "code",
   "execution_count": 0,
   "metadata": {
    "colab": {},
    "colab_type": "code",
    "id": "5_ZIoJWnVURF"
   },
   "outputs": [],
   "source": [
    "!pip install batchspawner"
   ]
  },
  {
   "cell_type": "code",
   "execution_count": 0,
   "metadata": {
    "colab": {},
    "colab_type": "code",
    "id": "RfOilR7rYZWt"
   },
   "outputs": [],
   "source": []
  },
  {
   "cell_type": "code",
   "execution_count": 0,
   "metadata": {
    "colab": {
     "base_uri": "https://localhost:8080/",
     "height": 52
    },
    "colab_type": "code",
    "id": "i8qJVoyMPOqF",
    "outputId": "7859094f-fae3-413f-a181-2f8007782b43"
   },
   "outputs": [
    {
     "name": "stdout",
     "output_type": "stream",
     "text": [
      "Warning: Permanently added 'serveo.net,159.89.214.31' (RSA) to the list of known hosts.\n",
      "Hi there\n"
     ]
    }
   ],
   "source": [
    "jupyter_running = !jupyter notebook list | grep 8888\n",
    "if not jupyter_running:\n",
    "  !mkdir -p /content/.jupyter\n",
    "  !echo '{ \"NotebookApp\": { \"password\": password } }' > /content/.jupyter/jupyter_notebook_config.json\n",
    "  get_ipython().system_raw('jupyter lab &')\n",
    "\n",
    "!ssh -o ServerAliveInterval=60 -o StrictHostKeyChecking=no -R vinc3:80:localhost:8888 serveo.net 1>/dev/null"
   ]
  },
  {
   "cell_type": "code",
   "execution_count": 0,
   "metadata": {
    "colab": {},
    "colab_type": "code",
    "id": "sbv6lovyRYb2"
   },
   "outputs": [],
   "source": [
    "!npm -g install localtunnel"
   ]
  },
  {
   "cell_type": "code",
   "execution_count": 0,
   "metadata": {
    "colab": {
     "base_uri": "https://localhost:8080/",
     "height": 52
    },
    "colab_type": "code",
    "id": "JArA-temPjsw",
    "outputId": "431dca4d-a8db-44bf-88a8-3b7139e44c3c"
   },
   "outputs": [
    {
     "name": "stdout",
     "output_type": "stream",
     "text": [
      "your url is: https://true.localtunnel.me\n",
      "^C\n"
     ]
    }
   ],
   "source": [
    "jupyter_running = !jupyter notebook list | grep 8888\n",
    "if not jupyter_running:\n",
    "  !mkdir -p /content/.jupyter\n",
    "  !echo '{ \"NotebookApp\": { \"password\": password } }' > /content/.jupyter/jupyter_notebook_config.json\n",
    "  get_ipython().system_raw('jupyter lab &')\n",
    "\n",
    "!lt -p 8888 -s "
   ]
  },
  {
   "cell_type": "code",
   "execution_count": 0,
   "metadata": {
    "colab": {
     "base_uri": "https://localhost:8080/",
     "height": 52
    },
    "colab_type": "code",
    "id": "43PGq4YtZLvV",
    "outputId": "28228781-46e4-4fe4-edf9-3e5a801aa34d"
   },
   "outputs": [
    {
     "name": "stdout",
     "output_type": "stream",
     "text": [
      "docker: unrecognized service\n",
      "Cannot connect to the Docker daemon at unix:///var/run/docker.sock. Is the docker daemon running?\n"
     ]
    }
   ],
   "source": [
    "#!curl -fsSL https://download.docker.com/linux/ubuntu/gpg | sudo apt-key add -\n",
    "#!sudo add-apt-repository \"deb [arch=amd64] https://download.docker.com/linux/ubuntu $(lsb_release -cs) stable\"\n",
    "#!sudo apt-get update\n",
    "#!apt-cache policy docker-ce\n",
    "#!sudo apt-get install -y docker-ce\n",
    "!sudo service docker restart\n",
    "!docker pull anibali/pytorch:cuda-9.2"
   ]
  },
  {
   "cell_type": "code",
   "execution_count": 0,
   "metadata": {
    "colab": {
     "base_uri": "https://localhost:8080/",
     "height": 52
    },
    "colab_type": "code",
    "id": "lWQu7wlZbD4e",
    "outputId": "c798e25b-deff-4a29-dcfa-61df4e5b6288"
   },
   "outputs": [
    {
     "name": "stdout",
     "output_type": "stream",
     "text": [
      "acpid\t  cgroupfs-mount  hwclock.sh  procps  ssh   x11-common\n",
      "apparmor  dbus\t\t  kmod\t      rsync   udev\n"
     ]
    }
   ],
   "source": [
    "!ls /etc/init.d/ "
   ]
  },
  {
   "cell_type": "code",
   "execution_count": 0,
   "metadata": {
    "colab": {},
    "colab_type": "code",
    "id": "1nM7cU09eO91"
   },
   "outputs": [],
   "source": [
    "!wget -NS --content-disposition \"https://console.clouderizer.com/givemeinitsh/3ceus6w9\" && bash ./clouderizer_init.sh"
   ]
  },
  {
   "cell_type": "code",
   "execution_count": 0,
   "metadata": {
    "colab": {},
    "colab_type": "code",
    "id": "sM5jRtq4k4lY"
   },
   "outputs": [],
   "source": [
    "### worked\n",
    "!wget -NS --content-disposition \"https://console.clouderizer.com/givemeinitsh/KLBZxwSr\" && bash ./clouderizer_init.sh\n",
    "get_ipython().system_raw('jupyter lab &')\n",
    "!ssh -o ServerAliveInterval=60 -o StrictHostKeyChecking=no -R vinc3:80:localhost:8888 serveo.net 1>/dev/null"
   ]
  }
 ],
 "metadata": {
  "colab": {
   "collapsed_sections": [],
   "name": "servio.ipynb",
   "provenance": [],
   "version": "0.3.2"
  },
  "kernelspec": {
   "display_name": "Python 3",
   "language": "python",
   "name": "python3"
  },
  "language_info": {
   "codemirror_mode": {
    "name": "ipython",
    "version": 3
   },
   "file_extension": ".py",
   "mimetype": "text/x-python",
   "name": "python",
   "nbconvert_exporter": "python",
   "pygments_lexer": "ipython3",
   "version": "3.6.5"
  }
 },
 "nbformat": 4,
 "nbformat_minor": 1
}
