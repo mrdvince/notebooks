{
 "cells": [
  {
   "cell_type": "code",
   "execution_count": 3,
   "metadata": {
    "colab": {
     "base_uri": "https://localhost:8080/",
     "height": 1444
    },
    "colab_type": "code",
    "id": "mIsuOmjJqp5t",
    "outputId": "15a5f70b-64aa-45f0-d472-1709dc38baa1"
   },
   "outputs": [
    {
     "name": "stdout",
     "output_type": "stream",
     "text": [
      "Reading package lists... Done\n",
      "Building dependency tree       \n",
      "Reading state information... Done\n",
      "The following additional packages will be installed:\n",
      "  bind9-host geoip-database libbind9-160 libdns1100 libgeoip1 libirs160\n",
      "  libisc169 libisccc160 libisccfg160 liblwres160\n",
      "Suggested packages:\n",
      "  rblcheck geoip-bin\n",
      "The following NEW packages will be installed:\n",
      "  bind9-host dnsutils geoip-database libbind9-160 libdns1100 libgeoip1\n",
      "  libirs160 libisc169 libisccc160 libisccfg160 liblwres160\n",
      "0 upgraded, 11 newly installed, 0 to remove and 8 not upgraded.\n",
      "Need to get 3,711 kB of archives.\n",
      "After this operation, 14.5 MB of additional disk space will be used.\n",
      "Get:1 http://archive.ubuntu.com/ubuntu bionic-updates/main amd64 libisc169 amd64 1:9.11.3+dfsg-1ubuntu1.3 [237 kB]\n",
      "Get:2 http://archive.ubuntu.com/ubuntu bionic/main amd64 libgeoip1 amd64 1.6.12-1 [71.8 kB]\n",
      "Get:3 http://archive.ubuntu.com/ubuntu bionic-updates/main amd64 libdns1100 amd64 1:9.11.3+dfsg-1ubuntu1.3 [966 kB]\n",
      "Get:4 http://archive.ubuntu.com/ubuntu bionic-updates/main amd64 libisccc160 amd64 1:9.11.3+dfsg-1ubuntu1.3 [17.9 kB]\n",
      "Get:5 http://archive.ubuntu.com/ubuntu bionic-updates/main amd64 libisccfg160 amd64 1:9.11.3+dfsg-1ubuntu1.3 [48.4 kB]\n",
      "Get:6 http://archive.ubuntu.com/ubuntu bionic-updates/main amd64 libbind9-160 amd64 1:9.11.3+dfsg-1ubuntu1.3 [27.6 kB]\n",
      "Get:7 http://archive.ubuntu.com/ubuntu bionic-updates/main amd64 liblwres160 amd64 1:9.11.3+dfsg-1ubuntu1.3 [34.6 kB]\n",
      "Get:8 http://archive.ubuntu.com/ubuntu bionic-updates/main amd64 bind9-host amd64 1:9.11.3+dfsg-1ubuntu1.3 [53.5 kB]\n",
      "Get:9 http://archive.ubuntu.com/ubuntu bionic-updates/main amd64 libirs160 amd64 1:9.11.3+dfsg-1ubuntu1.3 [19.1 kB]\n",
      "Get:10 http://archive.ubuntu.com/ubuntu bionic-updates/main amd64 dnsutils amd64 1:9.11.3+dfsg-1ubuntu1.3 [145 kB]\n",
      "Get:11 http://archive.ubuntu.com/ubuntu bionic/main amd64 geoip-database all 20180315-1 [2,090 kB]\n",
      "Fetched 3,711 kB in 0s (26.9 MB/s)\n",
      "debconf: unable to initialize frontend: Dialog\n",
      "debconf: (No usable dialog-like program is installed, so the dialog based frontend cannot be used. at /usr/share/perl5/Debconf/FrontEnd/Dialog.pm line 76, <> line 11.)\n",
      "debconf: falling back to frontend: Readline\n",
      "debconf: unable to initialize frontend: Readline\n",
      "debconf: (This frontend requires a controlling tty.)\n",
      "debconf: falling back to frontend: Teletype\n",
      "dpkg-preconfigure: unable to re-open stdin: \n",
      "Selecting previously unselected package libisc169:amd64.\n",
      "(Reading database ... 110845 files and directories currently installed.)\n",
      "Preparing to unpack .../00-libisc169_1%3a9.11.3+dfsg-1ubuntu1.3_amd64.deb ...\n",
      "Unpacking libisc169:amd64 (1:9.11.3+dfsg-1ubuntu1.3) ...\n",
      "Selecting previously unselected package libgeoip1:amd64.\n",
      "Preparing to unpack .../01-libgeoip1_1.6.12-1_amd64.deb ...\n",
      "Unpacking libgeoip1:amd64 (1.6.12-1) ...\n",
      "Selecting previously unselected package libdns1100:amd64.\n",
      "Preparing to unpack .../02-libdns1100_1%3a9.11.3+dfsg-1ubuntu1.3_amd64.deb ...\n",
      "Unpacking libdns1100:amd64 (1:9.11.3+dfsg-1ubuntu1.3) ...\n",
      "Selecting previously unselected package libisccc160:amd64.\n",
      "Preparing to unpack .../03-libisccc160_1%3a9.11.3+dfsg-1ubuntu1.3_amd64.deb ...\n",
      "Unpacking libisccc160:amd64 (1:9.11.3+dfsg-1ubuntu1.3) ...\n",
      "Selecting previously unselected package libisccfg160:amd64.\n",
      "Preparing to unpack .../04-libisccfg160_1%3a9.11.3+dfsg-1ubuntu1.3_amd64.deb ...\n",
      "Unpacking libisccfg160:amd64 (1:9.11.3+dfsg-1ubuntu1.3) ...\n",
      "Selecting previously unselected package libbind9-160:amd64.\n",
      "Preparing to unpack .../05-libbind9-160_1%3a9.11.3+dfsg-1ubuntu1.3_amd64.deb ...\n",
      "Unpacking libbind9-160:amd64 (1:9.11.3+dfsg-1ubuntu1.3) ...\n",
      "Selecting previously unselected package liblwres160:amd64.\n",
      "Preparing to unpack .../06-liblwres160_1%3a9.11.3+dfsg-1ubuntu1.3_amd64.deb ...\n",
      "Unpacking liblwres160:amd64 (1:9.11.3+dfsg-1ubuntu1.3) ...\n",
      "Selecting previously unselected package bind9-host.\n",
      "Preparing to unpack .../07-bind9-host_1%3a9.11.3+dfsg-1ubuntu1.3_amd64.deb ...\n",
      "Unpacking bind9-host (1:9.11.3+dfsg-1ubuntu1.3) ...\n",
      "Selecting previously unselected package libirs160:amd64.\n",
      "Preparing to unpack .../08-libirs160_1%3a9.11.3+dfsg-1ubuntu1.3_amd64.deb ...\n",
      "Unpacking libirs160:amd64 (1:9.11.3+dfsg-1ubuntu1.3) ...\n",
      "Selecting previously unselected package dnsutils.\n",
      "Preparing to unpack .../09-dnsutils_1%3a9.11.3+dfsg-1ubuntu1.3_amd64.deb ...\n",
      "Unpacking dnsutils (1:9.11.3+dfsg-1ubuntu1.3) ...\n",
      "Selecting previously unselected package geoip-database.\n",
      "Preparing to unpack .../10-geoip-database_20180315-1_all.deb ...\n",
      "Unpacking geoip-database (20180315-1) ...\n",
      "Setting up libisc169:amd64 (1:9.11.3+dfsg-1ubuntu1.3) ...\n",
      "Setting up libisccc160:amd64 (1:9.11.3+dfsg-1ubuntu1.3) ...\n",
      "Setting up geoip-database (20180315-1) ...\n",
      "Setting up libgeoip1:amd64 (1.6.12-1) ...\n",
      "Processing triggers for libc-bin (2.27-3ubuntu1) ...\n",
      "Processing triggers for man-db (2.8.3-2ubuntu0.1) ...\n",
      "Setting up libdns1100:amd64 (1:9.11.3+dfsg-1ubuntu1.3) ...\n",
      "Setting up liblwres160:amd64 (1:9.11.3+dfsg-1ubuntu1.3) ...\n",
      "Setting up libisccfg160:amd64 (1:9.11.3+dfsg-1ubuntu1.3) ...\n",
      "Setting up libirs160:amd64 (1:9.11.3+dfsg-1ubuntu1.3) ...\n",
      "Setting up libbind9-160:amd64 (1:9.11.3+dfsg-1ubuntu1.3) ...\n",
      "Setting up bind9-host (1:9.11.3+dfsg-1ubuntu1.3) ...\n",
      "Setting up dnsutils (1:9.11.3+dfsg-1ubuntu1.3) ...\n",
      "Processing triggers for libc-bin (2.27-3ubuntu1) ...\n"
     ]
    }
   ],
   "source": [
    "!sudo apt-get install dnsutils"
   ]
  },
  {
   "cell_type": "code",
   "execution_count": 14,
   "metadata": {
    "colab": {
     "base_uri": "https://localhost:8080/",
     "height": 34
    },
    "colab_type": "code",
    "id": "9_Lscz_OsSPR",
    "outputId": "485d7b49-bccc-4c8b-91ae-242d2714a41b"
   },
   "outputs": [
    {
     "name": "stdout",
     "output_type": "stream",
     "text": [
      "35.205.230.167\n"
     ]
    }
   ],
   "source": [
    "!dig +short myip.opendns.com @resolver1.opendns.com"
   ]
  },
  {
   "cell_type": "code",
   "execution_count": 6,
   "metadata": {
    "colab": {
     "base_uri": "https://localhost:8080/",
     "height": 732
    },
    "colab_type": "code",
    "id": "Lr-SeKPnsV46",
    "outputId": "7f79ac35-41fc-43d7-dfe1-41430edf5b16"
   },
   "outputs": [
    {
     "name": "stdout",
     "output_type": "stream",
     "text": [
      "Collecting jupyterlab\n",
      "\u001b[?25l  Downloading https://files.pythonhosted.org/packages/45/77/40f2a382508d78a3f9fc59b98d67edd5b2999f8441d3945bfd37d2351a4d/jupyterlab-0.35.4-py3-none-any.whl (14.7MB)\n",
      "\u001b[K    100% |████████████████████████████████| 14.7MB 2.9MB/s \n",
      "\u001b[?25hRequirement already satisfied: notebook>=4.3.1 in /usr/local/lib/python3.6/dist-packages (from jupyterlab) (5.2.2)\n",
      "Collecting jupyterlab-server<0.3.0,>=0.2.0 (from jupyterlab)\n",
      "  Downloading https://files.pythonhosted.org/packages/78/77/e8a9c300afbe24aa46abaf1091d9e7b82328559e99cf2d601e858bcb3e1a/jupyterlab_server-0.2.0-py3-none-any.whl\n",
      "Requirement already satisfied: jupyter-core in /usr/local/lib/python3.6/dist-packages (from notebook>=4.3.1->jupyterlab) (4.4.0)\n",
      "Requirement already satisfied: jinja2 in /usr/local/lib/python3.6/dist-packages (from notebook>=4.3.1->jupyterlab) (2.10)\n",
      "Requirement already satisfied: jupyter-client in /usr/local/lib/python3.6/dist-packages (from notebook>=4.3.1->jupyterlab) (5.2.4)\n",
      "Requirement already satisfied: ipython-genutils in /usr/local/lib/python3.6/dist-packages (from notebook>=4.3.1->jupyterlab) (0.2.0)\n",
      "Requirement already satisfied: nbconvert in /usr/local/lib/python3.6/dist-packages (from notebook>=4.3.1->jupyterlab) (5.4.0)\n",
      "Requirement already satisfied: tornado>=4 in /usr/local/lib/python3.6/dist-packages (from notebook>=4.3.1->jupyterlab) (4.5.3)\n",
      "Requirement already satisfied: nbformat in /usr/local/lib/python3.6/dist-packages (from notebook>=4.3.1->jupyterlab) (4.4.0)\n",
      "Requirement already satisfied: terminado>=0.3.3; sys_platform != \"win32\" in /usr/local/lib/python3.6/dist-packages (from notebook>=4.3.1->jupyterlab) (0.8.1)\n",
      "Requirement already satisfied: traitlets>=4.2.1 in /usr/local/lib/python3.6/dist-packages (from notebook>=4.3.1->jupyterlab) (4.3.2)\n",
      "Requirement already satisfied: ipykernel in /usr/local/lib/python3.6/dist-packages (from notebook>=4.3.1->jupyterlab) (4.6.1)\n",
      "Requirement already satisfied: jsonschema>=2.6.0 in /usr/local/lib/python3.6/dist-packages (from jupyterlab-server<0.3.0,>=0.2.0->jupyterlab) (2.6.0)\n",
      "Requirement already satisfied: MarkupSafe>=0.23 in /usr/local/lib/python3.6/dist-packages (from jinja2->notebook>=4.3.1->jupyterlab) (1.1.0)\n",
      "Requirement already satisfied: pyzmq>=13 in /usr/local/lib/python3.6/dist-packages (from jupyter-client->notebook>=4.3.1->jupyterlab) (17.0.0)\n",
      "Requirement already satisfied: python-dateutil>=2.1 in /usr/local/lib/python3.6/dist-packages (from jupyter-client->notebook>=4.3.1->jupyterlab) (2.5.3)\n",
      "Requirement already satisfied: bleach in /usr/local/lib/python3.6/dist-packages (from nbconvert->notebook>=4.3.1->jupyterlab) (3.0.2)\n",
      "Requirement already satisfied: pandocfilters>=1.4.1 in /usr/local/lib/python3.6/dist-packages (from nbconvert->notebook>=4.3.1->jupyterlab) (1.4.2)\n",
      "Requirement already satisfied: testpath in /usr/local/lib/python3.6/dist-packages (from nbconvert->notebook>=4.3.1->jupyterlab) (0.4.2)\n",
      "Requirement already satisfied: pygments in /usr/local/lib/python3.6/dist-packages (from nbconvert->notebook>=4.3.1->jupyterlab) (2.1.3)\n",
      "Requirement already satisfied: defusedxml in /usr/local/lib/python3.6/dist-packages (from nbconvert->notebook>=4.3.1->jupyterlab) (0.5.0)\n",
      "Requirement already satisfied: mistune>=0.8.1 in /usr/local/lib/python3.6/dist-packages (from nbconvert->notebook>=4.3.1->jupyterlab) (0.8.4)\n",
      "Requirement already satisfied: entrypoints>=0.2.2 in /usr/local/lib/python3.6/dist-packages (from nbconvert->notebook>=4.3.1->jupyterlab) (0.2.3)\n",
      "Requirement already satisfied: ptyprocess; os_name != \"nt\" in /usr/local/lib/python3.6/dist-packages (from terminado>=0.3.3; sys_platform != \"win32\"->notebook>=4.3.1->jupyterlab) (0.6.0)\n",
      "Requirement already satisfied: six in /usr/local/lib/python3.6/dist-packages (from traitlets>=4.2.1->notebook>=4.3.1->jupyterlab) (1.11.0)\n",
      "Requirement already satisfied: decorator in /usr/local/lib/python3.6/dist-packages (from traitlets>=4.2.1->notebook>=4.3.1->jupyterlab) (4.3.0)\n",
      "Requirement already satisfied: ipython>=4.0.0 in /usr/local/lib/python3.6/dist-packages (from ipykernel->notebook>=4.3.1->jupyterlab) (5.5.0)\n",
      "Requirement already satisfied: webencodings in /usr/local/lib/python3.6/dist-packages (from bleach->nbconvert->notebook>=4.3.1->jupyterlab) (0.5.1)\n",
      "Requirement already satisfied: setuptools>=18.5 in /usr/local/lib/python3.6/dist-packages (from ipython>=4.0.0->ipykernel->notebook>=4.3.1->jupyterlab) (40.6.3)\n",
      "Requirement already satisfied: pexpect; sys_platform != \"win32\" in /usr/local/lib/python3.6/dist-packages (from ipython>=4.0.0->ipykernel->notebook>=4.3.1->jupyterlab) (4.6.0)\n",
      "Requirement already satisfied: simplegeneric>0.8 in /usr/local/lib/python3.6/dist-packages (from ipython>=4.0.0->ipykernel->notebook>=4.3.1->jupyterlab) (0.8.1)\n",
      "Requirement already satisfied: prompt-toolkit<2.0.0,>=1.0.4 in /usr/local/lib/python3.6/dist-packages (from ipython>=4.0.0->ipykernel->notebook>=4.3.1->jupyterlab) (1.0.15)\n",
      "Requirement already satisfied: pickleshare in /usr/local/lib/python3.6/dist-packages (from ipython>=4.0.0->ipykernel->notebook>=4.3.1->jupyterlab) (0.7.5)\n",
      "Requirement already satisfied: wcwidth in /usr/local/lib/python3.6/dist-packages (from prompt-toolkit<2.0.0,>=1.0.4->ipython>=4.0.0->ipykernel->notebook>=4.3.1->jupyterlab) (0.1.7)\n",
      "Installing collected packages: jupyterlab-server, jupyterlab\n",
      "Successfully installed jupyterlab-0.35.4 jupyterlab-server-0.2.0\n"
     ]
    }
   ],
   "source": [
    "!pip install jupyterlab"
   ]
  },
  {
   "cell_type": "code",
   "execution_count": null,
   "metadata": {
    "colab": {},
    "colab_type": "code",
    "id": "Qm73RlZNskbd"
   },
   "outputs": [],
   "source": [
    "! echo \"PermitRootLogin yes\" >> /etc/ssh/sshd_config\n",
    "! echo \"PasswordAuthentication yes\" >> /etc/ssh/sshd_config"
   ]
  },
  {
   "cell_type": "code",
   "execution_count": null,
   "metadata": {
    "colab": {},
    "colab_type": "code",
    "id": "uTadaSuLtHwM"
   },
   "outputs": [],
   "source": [
    "! echo root:\"password\" | chpasswd"
   ]
  },
  {
   "cell_type": "code",
   "execution_count": null,
   "metadata": {
    "colab": {},
    "colab_type": "code",
    "id": "oJLH_4IVtbEY"
   },
   "outputs": [],
   "source": [
    "get_ipython().system_raw('/usr/sbin/sshd -D &')"
   ]
  },
  {
   "cell_type": "code",
   "execution_count": null,
   "metadata": {
    "colab": {},
    "colab_type": "code",
    "id": "dwjIGswLtdWu"
   },
   "outputs": [],
   "source": [
    "#Generate root password\n",
    "import random, string\n",
    "password = 'password'.join(random.choice(string.ascii_letters + string.digits) for i in range(20))\n",
    "\n",
    "#Download ngrok\n",
    "! wget -q -c -nc https://bin.equinox.io/c/4VmDzA7iaHb/ngrok-stable-linux-amd64.zip\n",
    "! unzip -qq -n ngrok-stable-linux-amd64.zip\n",
    "#Setup sshd\n",
    "! apt-get install -qq -o=Dpkg::Use-Pty=0 openssh-server pwgen > /dev/null\n",
    "#Set root password\n",
    "! echo root:$password | chpasswd\n",
    "! mkdir -p /var/run/sshd\n",
    "! echo \"PermitRootLogin yes\" >> /etc/ssh/sshd_config\n",
    "! echo \"PasswordAuthentication yes\" >> /etc/ssh/sshd_config\n",
    "! echo \"LD_LIBRARY_PATH=/usr/lib64-nvidia\" >> /root/.bashrc\n",
    "! echo \"export LD_LIBRARY_PATH\" >> /root/.bashrc\n",
    "\n",
    "#Run sshd\n",
    "get_ipython().system_raw('/usr/sbin/sshd -D &')"
   ]
  },
  {
   "cell_type": "code",
   "execution_count": null,
   "metadata": {
    "colab": {
     "base_uri": "https://localhost:8080/",
     "height": 969
    },
    "colab_type": "code",
    "id": "X_ASSEtkvNMT",
    "outputId": "a6b6306c-8895-4ba7-c14d-222fc85271e8"
   },
   "outputs": [],
   "source": [
    "#Ask token\n",
    "print(\"Copy authtoken from https://dashboard.ngrok.com/auth\")\n",
    "import getpass\n",
    "authtoken = getpass.getpass()"
   ]
  },
  {
   "cell_type": "code",
   "execution_count": 20,
   "metadata": {
    "colab": {
     "base_uri": "https://localhost:8080/",
     "height": 52
    },
    "colab_type": "code",
    "id": "BE50HKFWvWc3",
    "outputId": "8349e1d5-bb22-40b0-b336-80b7db868260"
   },
   "outputs": [
    {
     "name": "stdout",
     "output_type": "stream",
     "text": [
      " * Starting OpenBSD Secure Shell server sshd\n",
      "   ...done.\n"
     ]
    }
   ],
   "source": [
    "!/etc/init.d/sshd start"
   ]
  },
  {
   "cell_type": "code",
   "execution_count": 22,
   "metadata": {
    "colab": {
     "base_uri": "https://localhost:8080/",
     "height": 139
    },
    "colab_type": "code",
    "id": "Sz-vC6zf7hT3",
    "outputId": "a7f4afc8-1acf-4658-f261-2579804a4683"
   },
   "outputs": [
    {
     "name": "stdout",
     "output_type": "stream",
     "text": [
      "E: Package 'python-software-properties' has no installation candidate\n",
      "Selecting previously unselected package google-drive-ocamlfuse.\n",
      "(Reading database ... 110970 files and directories currently installed.)\n",
      "Preparing to unpack .../google-drive-ocamlfuse_0.7.1-0ubuntu3~ubuntu18.04.1_amd64.deb ...\n",
      "Unpacking google-drive-ocamlfuse (0.7.1-0ubuntu3~ubuntu18.04.1) ...\n",
      "Setting up google-drive-ocamlfuse (0.7.1-0ubuntu3~ubuntu18.04.1) ...\n",
      "Processing triggers for man-db (2.8.3-2ubuntu0.1) ...\n"
     ]
    }
   ],
   "source": [
    "!mkdir -p drive\n",
    "!apt-get install -y -qq software-properties-common python-software-properties module-init-tools\n",
    "!add-apt-repository -y ppa:alessandro-strada/ppa 2>&1 >/dev/null\n",
    "!apt-get update -qq 2>&1 > /dev/null\n",
    "!apt-get -y install -qq google-drive-ocamlfuse fuse\n",
    "# Authorize instance to use Google Drive"
   ]
  },
  {
   "cell_type": "code",
   "execution_count": 23,
   "metadata": {
    "colab": {
     "base_uri": "https://localhost:8080/",
     "height": 34
    },
    "colab_type": "code",
    "id": "a9715Dqg7iEF",
    "outputId": "6aa6a11f-6b70-44c6-e413-18454ed479df"
   },
   "outputs": [
    {
     "data": {
      "text/plain": [
       "'sha1:fc24097aeef0:6699d3b4c7781ffaecdf969655598c96591c8eba'"
      ]
     },
     "execution_count": 23,
     "metadata": {
      "tags": []
     },
     "output_type": "execute_result"
    }
   ],
   "source": [
    "from IPython.lib import passwd\n",
    "password = passwd(\"secret\")\n",
    "password"
   ]
  },
  {
   "cell_type": "code",
   "execution_count": 24,
   "metadata": {
    "colab": {
     "base_uri": "https://localhost:8080/",
     "height": 132
    },
    "colab_type": "code",
    "id": "2RskLI0W7zE1",
    "outputId": "56cf1da1-f22d-4db9-81a0-7a70ff24ea37"
   },
   "outputs": [
    {
     "ename": "SyntaxError",
     "evalue": "ignored",
     "output_type": "error",
     "traceback": [
      "\u001b[0;36m  File \u001b[0;32m\"<ipython-input-24-7c3075ad96d3>\"\u001b[0;36m, line \u001b[0;32m7\u001b[0m\n\u001b[0;31m    vinc3:80:localhost:8888 serveo.net 1>/dev/null\u001b[0m\n\u001b[0m            ^\u001b[0m\n\u001b[0;31mSyntaxError\u001b[0m\u001b[0;31m:\u001b[0m invalid syntax\n"
     ]
    }
   ],
   "source": [
    "jupyter_running = !jupyter notebook list | grep 8888\n",
    "if not jupyter_running:\n",
    "  !mkdir -p /content/.jupyter\n",
    "  !echo '{ \"NotebookApp\": { \"password\": \"'sha1:fc24097aeef0:6699d3b4c7781ffaecdf969655598c96591c8eba'\" } }' >/content/.jupyter/jupyter_notebook_config.json\n",
    "get_ipython().system_raw('jupyter lab &')\n",
    "!ssh -o ServerAliveInterval=60 -o StrictHostKeyChecking=no -R\n",
    "test:80:localhost:8888 serveo.net 1>/dev/null"
   ]
  }
 ],
 "metadata": {
  "accelerator": "GPU",
  "colab": {
   "name": "Untitled3.ipynb",
   "provenance": [],
   "version": "0.3.2"
  },
  "kernelspec": {
   "display_name": "Python 3",
   "language": "python",
   "name": "python3"
  },
  "language_info": {
   "codemirror_mode": {
    "name": "ipython",
    "version": 3
   },
   "file_extension": ".py",
   "mimetype": "text/x-python",
   "name": "python",
   "nbconvert_exporter": "python",
   "pygments_lexer": "ipython3",
   "version": "3.6.5"
  }
 },
 "nbformat": 4,
 "nbformat_minor": 2
}
