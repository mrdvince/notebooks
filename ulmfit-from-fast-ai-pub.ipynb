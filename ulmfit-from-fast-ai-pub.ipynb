{
 "cells": [
  {
   "cell_type": "code",
   "execution_count": null,
   "metadata": {
    "_cell_guid": "b1076dfc-b9ad-4769-8c92-a6c4dae69d19",
    "_uuid": "8f2839f25d086af736a60e9eeb907d3b93b6e0e5"
   },
   "outputs": [],
   "source": [
    "from fastai.text import *\n",
    "from fastai.datasets import URLs\n",
    "import torch\n",
    "import pandas as pd\n",
    "import numpy as np\n",
    "import logging\n",
    "import os\n",
    "import random\n",
    "logging.basicConfig(filename='log.txt',level=logging.DEBUG, format='%(asctime)s %(message)s')"
   ]
  },
  {
   "cell_type": "code",
   "execution_count": null,
   "metadata": {
    "_uuid": "71a9dcb099b867b7dfa250472119943c36ba1c1a"
   },
   "outputs": [],
   "source": [
    "!( head -535000 ../input/train.csv ) > train.csv # reducing size to train in less than 2 hours\n",
    "# !( head -200 ../input/test.csv ) > test.csv\n",
    "# !cp ../input/train.csv train.csv\n",
    "!cp ../input/test.csv test.csv\n",
    "train_file = 'train.csv'\n",
    "test_file = 'test.csv'\n",
    "folder = '.'"
   ]
  },
  {
   "cell_type": "code",
   "execution_count": null,
   "metadata": {
    "_uuid": "26cd3ac89d550bc5b2dde03cf8c95db47d5053e7"
   },
   "outputs": [],
   "source": [
    "# Language model data (10 min with whole training set)\n",
    "data_lm = TextLMDataBunch.from_csv(folder, \n",
    "                                   train_file, \n",
    "                                   text_cols='question_text', \n",
    "                                   label_cols='target')\n",
    "assert data_lm.device == torch.device('cuda')\n",
    "logging.info('Language model data finish')"
   ]
  },
  {
   "cell_type": "code",
   "execution_count": null,
   "metadata": {
    "_uuid": "26cd3ac89d550bc5b2dde03cf8c95db47d5053e7"
   },
   "outputs": [],
   "source": [
    "# Language model trainer (66 min with whole training set)\n",
    "learn = language_model_learner(data_lm, \n",
    "                           drop_mult=0.5,\n",
    "                           bptt=45)\n",
    "learn.fit_one_cycle(1 , 1e-2)\n",
    "learn.save_encoder('encoder')\n",
    "logging.info('Language model trained')"
   ]
  },
  {
   "cell_type": "code",
   "execution_count": null,
   "metadata": {
    "_uuid": "26cd3ac89d550bc5b2dde03cf8c95db47d5053e7"
   },
   "outputs": [],
   "source": [
    "# Classifier model data (10 min with whole training set)\n",
    "data_clas = TextClasDataBunch.from_csv(folder, \n",
    "                                       train_file,\n",
    "                                       valid_pct=0.1, #added to see if we prevent errors \n",
    "                                       vocab=data_lm.train_ds.vocab, \n",
    "                                       bs=32,\n",
    "                                       text_cols='question_text', \n",
    "                                       label_cols='target')\n",
    "logging.info('data_clas created')"
   ]
  },
  {
   "cell_type": "code",
   "execution_count": null,
   "metadata": {
    "_uuid": "26cd3ac89d550bc5b2dde03cf8c95db47d5053e7"
   },
   "outputs": [],
   "source": [
    "# Classifier training (43 min with whole training set)\n",
    "learn_classifier = text_classifier_learner(data_clas, drop_mult=0.5)\n",
    "learn_classifier.load_encoder('encoder')\n",
    "learn_classifier.fit_one_cycle(1, 1e-2)   \n",
    "logging.info('learn_classifier fit')"
   ]
  },
  {
   "cell_type": "code",
   "execution_count": null,
   "metadata": {
    "_uuid": "26cd3ac89d550bc5b2dde03cf8c95db47d5053e7"
   },
   "outputs": [],
   "source": [
    "# Do predictions and submission (67 min with whole test set)\n",
    "# This is awful in terms of time and can be reduced to a few seconds (see next TODO)\n",
    "# TODO: take the model out using learn_classifier.model and do steps manually. Work in progress.\n",
    "test_set =  pd.read_csv(test_file)\n",
    "true_threshold = 0.33\n",
    "predictions = test_set['question_text'].apply(lambda x: int(learn_classifier.predict(x)[2][1]>true_threshold))\n",
    "logging.info('predictions built')\n",
    "submission = pd.DataFrame(test_set['qid'])\n",
    "submission['prediction'] = predictions \n",
    "submission.to_csv('submission.csv',index=False)\n",
    "logging.info('submission built')"
   ]
  }
 ],
 "metadata": {
  "kernelspec": {
   "display_name": "Python 3",
   "language": "python",
   "name": "python3"
  },
  "language_info": {
   "codemirror_mode": {
    "name": "ipython",
    "version": 3
   },
   "file_extension": ".py",
   "mimetype": "text/x-python",
   "name": "python",
   "nbconvert_exporter": "python",
   "pygments_lexer": "ipython3",
   "version": "3.6.5"
  }
 },
 "nbformat": 4,
 "nbformat_minor": 1
}
