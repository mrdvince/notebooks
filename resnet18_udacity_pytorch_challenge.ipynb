{
 "cells": [
  {
   "cell_type": "markdown",
   "metadata": {
    "_uuid": "80d8c5e8466fb41a56fd355b77874f3f1c56641c",
    "colab_type": "text",
    "id": "Ng8u2U-mRR9y"
   },
   "source": [
    "# Udacity PyTorch Scholarship Final Lab Challenge"
   ]
  },
  {
   "cell_type": "markdown",
   "metadata": {
    "_uuid": "44b22f84bb8538f43f5a2671f10d515b9d9eaf7b",
    "colab_type": "text",
    "id": "861PXRVgRR9_"
   },
   "source": [
    "**By [Droid(Kaggle - Droid021)](https://www.linkedin.com/in/v3nvince)**"
   ]
  },
  {
   "cell_type": "code",
   "execution_count": 0,
   "metadata": {
    "colab": {
     "base_uri": "https://localhost:8080/",
     "height": 122
    },
    "colab_type": "code",
    "id": "kzMzM6jCSc5h",
    "outputId": "cb3b9cf8-e596-4adc-d1cc-71582b774ef3"
   },
   "outputs": [
    {
     "name": "stdout",
     "output_type": "stream",
     "text": [
      "Collecting pillow\n",
      "\u001b[?25l  Downloading https://files.pythonhosted.org/packages/62/94/5430ebaa83f91cc7a9f687ff5238e26164a779cca2ef9903232268b0a318/Pillow-5.3.0-cp36-cp36m-manylinux1_x86_64.whl (2.0MB)\n",
      "\u001b[K    100% |████████████████████████████████| 2.0MB 57.9MB/s \n",
      "\u001b[?25hInstalling collected packages: pillow\n",
      "Successfully installed pillow-5.3.0\n"
     ]
    }
   ],
   "source": [
    "!pip install --no-cache-dir -I pillow"
   ]
  },
  {
   "cell_type": "code",
   "execution_count": 0,
   "metadata": {
    "colab": {},
    "colab_type": "code",
    "id": "SfY2pRKLSIoa"
   },
   "outputs": [],
   "source": [
    "#!wget 'https://s3.amazonaws.com/content.udacity-data.com/courses/nd188/flower_data.zip'\n",
    "#!unzip flower_data.zip"
   ]
  },
  {
   "cell_type": "code",
   "execution_count": 0,
   "metadata": {
    "colab": {},
    "colab_type": "code",
    "id": "Wiu4CZXERYLM"
   },
   "outputs": [],
   "source": [
    "#!pip3 install torch==0.4.0 torchvision"
   ]
  },
  {
   "cell_type": "code",
   "execution_count": 0,
   "metadata": {
    "_cell_guid": "b1076dfc-b9ad-4769-8c92-a6c4dae69d19",
    "_uuid": "8f2839f25d086af736a60e9eeb907d3b93b6e0e5",
    "colab": {},
    "colab_type": "code",
    "id": "7Y0rDBt8RR-F"
   },
   "outputs": [],
   "source": [
    "%matplotlib inline\n",
    "%config InlineBackend.figure_format = 'retina'\n",
    "\n",
    "import matplotlib.pyplot as plt\n",
    "\n",
    "import torch\n",
    "from torch import nn\n",
    "from torch import optim\n",
    "import torch.nn.functional as F\n",
    "from torchvision import datasets, transforms, models\n",
    "import numpy as np"
   ]
  },
  {
   "cell_type": "code",
   "execution_count": 0,
   "metadata": {
    "_uuid": "002f25de7252b2f056743dafe141742d749afff3",
    "colab": {},
    "colab_type": "code",
    "id": "0RiXDb9GRR-m"
   },
   "outputs": [],
   "source": [
    "data_dir = 'flower_data'\n",
    "\n",
    "# TODO: Define transforms for the training data and testing data\n",
    "train_transforms = transforms.Compose([transforms.RandomRotation(30),\n",
    "                                       transforms.RandomResizedCrop(224),\n",
    "                                       transforms.RandomHorizontalFlip(),\n",
    "                                       transforms.ToTensor(),\n",
    "                                       transforms.Normalize([0.485, 0.456, 0.406],\n",
    "                                                            [0.229, 0.224, 0.225])])\n",
    "\n",
    "test_transforms = transforms.Compose([transforms.Resize(255),\n",
    "                                      transforms.CenterCrop(224),\n",
    "                                      transforms.ToTensor(),\n",
    "                                      transforms.Normalize([0.485, 0.456, 0.406],\n",
    "                                                           [0.229, 0.224, 0.225])])\n",
    "\n",
    "# Pass transforms in here, then run the next cell to see how the transforms look\n",
    "train_data = datasets.ImageFolder(data_dir + '/train', transform=train_transforms)\n",
    "test_data = datasets.ImageFolder(data_dir + '/valid', transform=test_transforms)\n",
    "\n",
    "train_loader = torch.utils.data.DataLoader(train_data, batch_size=80, shuffle=True)\n",
    "test_loader = torch.utils.data.DataLoader(test_data, batch_size=80)"
   ]
  },
  {
   "cell_type": "code",
   "execution_count": 0,
   "metadata": {
    "_uuid": "9ba34d99dd8144a4252d6cceaa708a4d55ad528a",
    "colab": {},
    "colab_type": "code",
    "id": "7SehRuuaRR-7"
   },
   "outputs": [],
   "source": [
    "model = models.resnet18(pretrained=True)"
   ]
  },
  {
   "cell_type": "code",
   "execution_count": 0,
   "metadata": {
    "_uuid": "af3963b47925fafcc822de63c1681563424d9d15",
    "colab": {},
    "colab_type": "code",
    "id": "eaBejicSRR_Q"
   },
   "outputs": [],
   "source": [
    "# Freeze parameters so we don't backprop through them\n",
    "for _, param in model.named_parameters():\n",
    "  param.requires_grad = False\n",
    "  \n",
    "from collections import OrderedDict\n",
    "classifier = nn.Sequential(OrderedDict([\n",
    "    ('fc1', nn.Linear(512, 512)),\n",
    "    ('relu', nn.ReLU()),\n",
    "    ('dropout', nn.Dropout(0.4)),\n",
    "    ('fc2', nn.Linear(512, 102)),\n",
    "    ('output', nn.LogSoftmax(dim=1))\n",
    "]))\n",
    "    \n",
    "model.fc = classifier"
   ]
  },
  {
   "cell_type": "code",
   "execution_count": 0,
   "metadata": {
    "_uuid": "543bd88ff970e12f4caea2d6631e82edf41a406d",
    "colab": {},
    "colab_type": "code",
    "id": "tLcPJP0NRR_d"
   },
   "outputs": [],
   "source": [
    "criterion = nn.CrossEntropyLoss()\n",
    "optimizer = optim.Adam(model.fc.parameters(), lr=0.005)"
   ]
  },
  {
   "cell_type": "code",
   "execution_count": 0,
   "metadata": {
    "_uuid": "f36e138047583ccceb04dfc84472675fbb99e111",
    "colab": {
     "base_uri": "https://localhost:8080/",
     "height": 34
    },
    "colab_type": "code",
    "id": "Dl1FlVu0RR_r",
    "outputId": "711cb5ad-11fd-4b3d-97e2-72a885457773"
   },
   "outputs": [
    {
     "name": "stdout",
     "output_type": "stream",
     "text": [
      "CUDA is available!  Training on GPU ...\n"
     ]
    }
   ],
   "source": [
    "# check if CUDA is available\n",
    "train_on_gpu = torch.cuda.is_available()\n",
    "\n",
    "if not train_on_gpu:\n",
    "    print('CUDA is not available.  Training on CPU ...')\n",
    "else:\n",
    "    print('CUDA is available!  Training on GPU ...')"
   ]
  },
  {
   "cell_type": "code",
   "execution_count": 24,
   "metadata": {
    "_uuid": "38590d3b2ba55205662df7368674e659c8f2fb84",
    "colab": {
     "base_uri": "https://localhost:8080/",
     "height": 748
    },
    "colab_type": "code",
    "id": "OsLSqxI1RR_9",
    "outputId": "2d8a0d2a-7eb4-4333-8906-8d00ab3c2cea"
   },
   "outputs": [
    {
     "name": "stdout",
     "output_type": "stream",
     "text": [
      "Epoch: 1 \tTraining Loss: 3.2448\t Val. acc: 67.00%\n",
      "Validation loss decreased (inf --> 1.340319).  Saving model ...\n",
      "Epoch: 2 \tTraining Loss: 1.8805\t Val. acc: 79.00%\n",
      "Validation loss decreased (1.340319 --> 0.806241).  Saving model ...\n",
      "Epoch: 3 \tTraining Loss: 1.5993\t Val. acc: 80.00%\n",
      "Validation loss decreased (0.806241 --> 0.708884).  Saving model ...\n",
      "Epoch: 4 \tTraining Loss: 1.4636\t Val. acc: 84.00%\n",
      "Validation loss decreased (0.708884 --> 0.609268).  Saving model ...\n",
      "Epoch: 5 \tTraining Loss: 1.4414\t Val. acc: 84.00%\n",
      "Validation loss decreased (0.609268 --> 0.586282).  Saving model ...\n",
      "Epoch: 6 \tTraining Loss: 1.4378\t Val. acc: 84.00%\n",
      "Validation loss decreased (0.586282 --> 0.548567).  Saving model ...\n",
      "Epoch: 7 \tTraining Loss: 1.4294\t Val. acc: 85.00%\n",
      "Epoch: 8 \tTraining Loss: 1.3244\t Val. acc: 83.00%\n",
      "Epoch: 9 \tTraining Loss: 1.3344\t Val. acc: 86.00%\n",
      "Validation loss decreased (0.548567 --> 0.469412).  Saving model ...\n",
      "Epoch: 10 \tTraining Loss: 1.2951\t Val. acc: 84.00%\n",
      "Epoch: 11 \tTraining Loss: 1.3268\t Val. acc: 85.00%\n",
      "Validation loss decreased (0.469412 --> 0.469262).  Saving model ...\n",
      "Epoch: 12 \tTraining Loss: 1.3079\t Val. acc: 85.00%\n",
      "Epoch: 13 \tTraining Loss: 1.3089\t Val. acc: 86.00%\n",
      "Epoch: 14 \tTraining Loss: 1.2927\t Val. acc: 86.00%\n",
      "Validation loss decreased (0.469262 --> 0.447514).  Saving model ...\n",
      "Epoch: 15 \tTraining Loss: 1.2229\t Val. acc: 86.00%\n",
      "Epoch: 16 \tTraining Loss: 1.2679\t Val. acc: 85.00%\n",
      "Epoch: 17 \tTraining Loss: 1.3248\t Val. acc: 88.00%\n",
      "Validation loss decreased (0.447514 --> 0.440362).  Saving model ...\n",
      "Epoch: 18 \tTraining Loss: 1.3192\t Val. acc: 86.00%\n",
      "Epoch: 19 \tTraining Loss: 1.2600\t Val. acc: 87.00%\n",
      "Validation loss decreased (0.440362 --> 0.419240).  Saving model ...\n",
      "Epoch: 20 \tTraining Loss: 1.2317\t Val. acc: 87.00%\n",
      "Epoch: 21 \tTraining Loss: 1.2035\t Val. acc: 87.00%\n",
      "Epoch: 22 \tTraining Loss: 1.2750\t Val. acc: 87.00%\n",
      "Epoch: 23 \tTraining Loss: 1.2640\t Val. acc: 88.00%\n",
      "Epoch: 24 \tTraining Loss: 1.2167\t Val. acc: 88.00%\n",
      "Validation loss decreased (0.419240 --> 0.417008).  Saving model ...\n",
      "Epoch: 25 \tTraining Loss: 1.2593\t Val. acc: 85.00%\n",
      "Epoch: 26 \tTraining Loss: 1.2268\t Val. acc: 87.00%\n",
      "Epoch: 27 \tTraining Loss: 1.2107\t Val. acc: 88.00%\n",
      "Epoch: 28 \tTraining Loss: 1.2544\t Val. acc: 87.00%\n",
      "Epoch: 29 \tTraining Loss: 1.2506\t Val. acc: 89.00%\n",
      "Validation loss decreased (0.417008 --> 0.413562).  Saving model ...\n",
      "Epoch: 30 \tTraining Loss: 1.2396\t Val. acc: 87.00%\n"
     ]
    }
   ],
   "source": [
    "device = torch.device(\"cuda\" if torch.cuda.is_available() else \"cpu\")\n",
    "model.to(device)\n",
    "epochs = 30\n",
    "\n",
    "valid_loss_min = np.Inf\n",
    "\n",
    "# Some lists to keep track of loss and accuracy during each epoch\n",
    "epoch_list = []\n",
    "train_loss_list = []\n",
    "val_loss_list = []\n",
    "train_acc_list = []\n",
    "val_acc_list = []\n",
    "# Start epochs\n",
    "for epoch in range(epochs):\n",
    "    \n",
    "    #adjust_learning_rate(optimizer, epoch)\n",
    "    \n",
    "    # monitor training loss\n",
    "    train_loss = 0.0\n",
    "    val_loss = 0.0\n",
    "    \n",
    "    ###################\n",
    "    # train the model #\n",
    "    ###################\n",
    "    # Set the training mode ON -> Activate Dropout Layers\n",
    "    model.train() # prepare model for training\n",
    "    # Calculate Accuracy         \n",
    "    correct = 0\n",
    "    total = 0\n",
    "    \n",
    "    # Load Train Images with Labels(Targets)\n",
    "    for data, target in train_loader:\n",
    "        \n",
    "        if train_on_gpu:\n",
    "            data, target = data.to(device), target.to(device)\n",
    "        \n",
    "        # clear the gradients of all optimized variables\n",
    "        optimizer.zero_grad()\n",
    "        # forward pass: compute predicted outputs by passing inputs to the model\n",
    "        output = model(data)\n",
    "        \n",
    "        if type(output) == tuple:\n",
    "            output, _ = output\n",
    "        \n",
    "        # Calculate Training Accuracy \n",
    "        predicted = torch.max(output.data, 1)[1]        \n",
    "        # Total number of labels\n",
    "        total += len(target)\n",
    "        # Total correct predictions\n",
    "        correct += (predicted == target).sum()\n",
    "        \n",
    "        # calculate the loss\n",
    "        loss = criterion(output, target)\n",
    "        # backward pass: compute gradient of the loss with respect to model parameters\n",
    "  #      from torch.autograd import Variable\n",
    " #       loss = Variable(loss, requires_grad = True)\n",
    "        loss.backward()\n",
    "        # perform a single optimization step (parameter update)\n",
    "        optimizer.step()\n",
    "        # update running training loss\n",
    "        train_loss += loss.item()*data.size(0)\n",
    "    \n",
    "    # calculate average training loss over an epoch\n",
    "    train_loss = train_loss/len(train_loader.dataset)\n",
    "    \n",
    "    # Avg Accuracy\n",
    "    accuracy = 100 * correct / float(total)\n",
    "    \n",
    "    # Put them in their list\n",
    "    train_acc_list.append(accuracy)\n",
    "    train_loss_list.append(train_loss)\n",
    "    \n",
    "        \n",
    "    # Implement Validation like K-fold Cross-validation \n",
    "    \n",
    "    # Set Evaluation Mode ON -> Turn Off Dropout\n",
    "    model.eval() # Required for Evaluation/Test\n",
    "\n",
    "    # Calculate Test/Validation Accuracy         \n",
    "    correct = 0\n",
    "    total = 0\n",
    "    with torch.no_grad():\n",
    "        for data, target in test_loader:\n",
    "\n",
    "\n",
    "            if train_on_gpu:\n",
    "                data, target = data.cuda(), target.cuda()\n",
    "\n",
    "            # Predict Output\n",
    "            output = model(data)\n",
    "            if type(output) == tuple:\n",
    "                output, _ = output\n",
    "\n",
    "            # Calculate Loss\n",
    "            loss = criterion(output, target)\n",
    "            val_loss += loss.item()*data.size(0)\n",
    "            # Get predictions from the maximum value\n",
    "            predicted = torch.max(output.data, 1)[1]\n",
    "\n",
    "            # Total number of labels\n",
    "            total += len(target)\n",
    "\n",
    "            # Total correct predictions\n",
    "            correct += (predicted == target).sum()\n",
    "    \n",
    "    # calculate average training loss and accuracy over an epoch\n",
    "    val_loss = val_loss/len(test_loader.dataset)\n",
    "    accuracy = 100 * correct/ float(total)\n",
    "    \n",
    "    # Put them in their list\n",
    "    val_acc_list.append(accuracy)\n",
    "    val_loss_list.append(val_loss)\n",
    "    \n",
    "    # Print the Epoch and Training Loss Details with Validation Accuracy   \n",
    "    print('Epoch: {} \\tTraining Loss: {:.4f}\\t Val. acc: {:.2f}%'.format(\n",
    "        epoch+1, \n",
    "        train_loss,\n",
    "        accuracy\n",
    "        ))\n",
    "    # save model if validation loss has decreased\n",
    "    if val_loss <= valid_loss_min:\n",
    "        print('Validation loss decreased ({:.6f} --> {:.6f}).  Saving model ...'.format(\n",
    "        valid_loss_min,\n",
    "        val_loss))\n",
    "        # Save Model State on Checkpoint\n",
    "        torch.save(model.state_dict(), 'gdrive/My Drive/remodel.pt')\n",
    "        torch.save(model.state_dict(), 'umodel.pt')\n",
    "        valid_loss_min = val_loss\n",
    "    # Move to next epoch\n",
    "    epoch_list.append(epoch + 1)"
   ]
  },
  {
   "cell_type": "markdown",
   "metadata": {
    "_uuid": "b9a9751f2cca1480f5a5586886b107d202e115ee",
    "colab_type": "text",
    "id": "uWaWx2-RRSAN"
   },
   "source": [
    "## Links Here:  \n",
    "**Model State Checkpoint File: [umodel.pt](./umodel.pt)**   (Preferred)  "
   ]
  },
  {
   "cell_type": "code",
   "execution_count": 0,
   "metadata": {
    "_uuid": "7eba135cff29e71eace2ea5fc4f602e52b8ffa0d",
    "colab": {},
    "colab_type": "code",
    "id": "qKT7T0Z9RSAX"
   },
   "outputs": [],
   "source": [
    "model.load_state_dict(torch.load('umodel.pt'))"
   ]
  },
  {
   "cell_type": "code",
   "execution_count": 26,
   "metadata": {
    "_uuid": "460108459d896cf671c680a62ce300c5c0653124",
    "colab": {
     "base_uri": "https://localhost:8080/",
     "height": 294
    },
    "colab_type": "code",
    "id": "u7UsDEW-RSAy",
    "outputId": "b2e79198-520c-4e46-ab3d-152e93c8501e"
   },
   "outputs": [
    {
     "data": {
      "image/png": "[encoded data removed]",
      "text/plain": [
       "<matplotlib.figure.Figure at 0x7f1704146cc0>"
      ]
     },
     "metadata": {
      "image/png": {
       "height": 277,
       "width": 384
      },
      "tags": []
     },
     "output_type": "display_data"
    }
   ],
   "source": [
    "# Training / Validation Loss\n",
    "plt.plot(epoch_list,train_loss_list)\n",
    "plt.plot(val_loss_list)\n",
    "plt.xlabel(\"Epochs\")\n",
    "plt.ylabel(\"Loss\")\n",
    "plt.title(\"Training/Validation Loss vs Number of Epochs\")\n",
    "plt.legend(['Train', 'Valid'], loc='upper right')\n",
    "plt.show()"
   ]
  },
  {
   "cell_type": "code",
   "execution_count": 27,
   "metadata": {
    "_uuid": "b1e4a168a3cb00c2b65b8ae2d201f326d5afa9c7",
    "colab": {
     "base_uri": "https://localhost:8080/",
     "height": 294
    },
    "colab_type": "code",
    "id": "1Nzc9-oDRSBU",
    "outputId": "8213752b-cc37-4455-f964-6f7aa4d1f620"
   },
   "outputs": [
    {
     "data": {
      "image/png": "[encoded data removed]",
      "text/plain": [
       "<matplotlib.figure.Figure at 0x7f1701cf2ac8>"
      ]
     },
     "metadata": {
      "image/png": {
       "height": 277,
       "width": 381
      },
      "tags": []
     },
     "output_type": "display_data"
    }
   ],
   "source": [
    "# Train/Valid Accuracy\n",
    "plt.plot(epoch_list,train_acc_list)\n",
    "plt.plot(val_acc_list)\n",
    "plt.xlabel(\"Epochs\")\n",
    "plt.ylabel(\"Training/Validation Accuracy\")\n",
    "plt.title(\"Accuracy vs Number of Epochs\")\n",
    "plt.legend(['Train', 'Valid'], loc='best')\n",
    "plt.show()"
   ]
  },
  {
   "cell_type": "code",
   "execution_count": 28,
   "metadata": {
    "_uuid": "cd2bef52ac96c84fcbe3580ab82e459a434a7f61",
    "colab": {
     "base_uri": "https://localhost:8080/",
     "height": 34
    },
    "colab_type": "code",
    "id": "iGANqqDARSBr",
    "outputId": "c165a264-c276-4086-a347-79d5b4f44ed7"
   },
   "outputs": [
    {
     "name": "stdout",
     "output_type": "stream",
     "text": [
      "Validation Accuracy of model = 85.0 %\n"
     ]
    }
   ],
   "source": [
    "val_acc = sum(val_acc_list[:]).item()/len(val_acc_list)\n",
    "print(\"Validation Accuracy of model = {} %\".format(val_acc))"
   ]
  },
  {
   "cell_type": "code",
   "execution_count": 29,
   "metadata": {
    "_uuid": "d11d4774d1733a94a0cc1d5125830b62b40ad89e",
    "colab": {
     "base_uri": "https://localhost:8080/",
     "height": 360
    },
    "colab_type": "code",
    "id": "WTifvBn9RSCP",
    "outputId": "dc561ee2-454e-4924-ce5b-d05ac2954122"
   },
   "outputs": [
    {
     "name": "stdout",
     "output_type": "stream",
     "text": [
      "Cloning into 'deep-learning-flower-identifier'...\n",
      "remote: Enumerating objects: 71, done.\u001b[K\n",
      "remote: Counting objects:   1% (1/71)   \u001b[K\r",
      "remote: Counting objects:   2% (2/71)   \u001b[K\r",
      "remote: Counting objects:   4% (3/71)   \u001b[K\r",
      "remote: Counting objects:   5% (4/71)   \u001b[K\r",
      "remote: Counting objects:   7% (5/71)   \u001b[K\r",
      "remote: Counting objects:   8% (6/71)   \u001b[K\r",
      "remote: Counting objects:   9% (7/71)   \u001b[K\r",
      "remote: Counting objects:  11% (8/71)   \u001b[K\r",
      "remote: Counting objects:  12% (9/71)   \u001b[K\r",
      "remote: Counting objects:  14% (10/71)   \u001b[K\r",
      "remote: Counting objects:  15% (11/71)   \u001b[K\r",
      "remote: Counting objects:  16% (12/71)   \u001b[K\r",
      "remote: Counting objects:  18% (13/71)   \u001b[K\r",
      "remote: Counting objects:  19% (14/71)   \u001b[K\r",
      "remote: Counting objects:  21% (15/71)   \u001b[K\r",
      "remote: Counting objects:  22% (16/71)   \u001b[K\r",
      "remote: Counting objects:  23% (17/71)   \u001b[K\r",
      "remote: Counting objects:  25% (18/71)   \u001b[K\r",
      "remote: Counting objects:  26% (19/71)   \u001b[K\r",
      "remote: Counting objects:  28% (20/71)   \u001b[K\r",
      "remote: Counting objects:  29% (21/71)   \u001b[K\r",
      "remote: Counting objects:  30% (22/71)   \u001b[K\r",
      "remote: Counting objects:  32% (23/71)   \u001b[K\r",
      "remote: Counting objects:  33% (24/71)   \u001b[K\r",
      "remote: Counting objects:  35% (25/71)   \u001b[K\r",
      "remote: Counting objects:  36% (26/71)   \u001b[K\r",
      "remote: Counting objects:  38% (27/71)   \u001b[K\r",
      "remote: Counting objects:  39% (28/71)   \u001b[K\r",
      "remote: Counting objects:  40% (29/71)   \u001b[K\r",
      "remote: Counting objects:  42% (30/71)   \u001b[K\r",
      "remote: Counting objects:  43% (31/71)   \u001b[K\r",
      "remote: Counting objects:  45% (32/71)   \u001b[K\r",
      "remote: Counting objects:  46% (33/71)   \u001b[K\r",
      "remote: Counting objects:  47% (34/71)   \u001b[K\r",
      "remote: Counting objects:  49% (35/71)   \u001b[K\r",
      "remote: Counting objects:  50% (36/71)   \u001b[K\r",
      "remote: Counting objects:  52% (37/71)   \u001b[K\r",
      "remote: Counting objects:  53% (38/71)   \u001b[K\r",
      "remote: Counting objects:  54% (39/71)   \u001b[K\r",
      "remote: Counting objects:  56% (40/71)   \u001b[K\r",
      "remote: Counting objects:  57% (41/71)   \u001b[K\r",
      "remote: Counting objects:  59% (42/71)   \u001b[K\r",
      "remote: Counting objects:  60% (43/71)   \u001b[K\r",
      "remote: Counting objects:  61% (44/71)   \u001b[K\r",
      "remote: Counting objects:  63% (45/71)   \u001b[K\r",
      "remote: Counting objects:  64% (46/71)   \u001b[K\r",
      "remote: Counting objects:  66% (47/71)   \u001b[K\r",
      "remote: Counting objects:  67% (48/71)   \u001b[K\r",
      "remote: Counting objects:  69% (49/71)   \u001b[K\r",
      "remote: Counting objects:  70% (50/71)   \u001b[K\r",
      "remote: Counting objects:  71% (51/71)   \u001b[K\r",
      "remote: Counting objects:  73% (52/71)   \u001b[K\r",
      "remote: Counting objects:  74% (53/71)   \u001b[K\r",
      "remote: Counting objects:  76% (54/71)   \u001b[K\r",
      "remote: Counting objects:  77% (55/71)   \u001b[K\r",
      "remote: Counting objects:  78% (56/71)   \u001b[K\r",
      "remote: Counting objects:  80% (57/71)   \u001b[K\r",
      "remote: Counting objects:  81% (58/71)   \u001b[K\r",
      "remote: Counting objects:  83% (59/71)   \u001b[K\r",
      "remote: Counting objects:  84% (60/71)   \u001b[K\r",
      "remote: Counting objects:  85% (61/71)   \u001b[K\r",
      "remote: Counting objects:  87% (62/71)   \u001b[K\r",
      "remote: Counting objects:  88% (63/71)   \u001b[K\r",
      "remote: Counting objects:  90% (64/71)   \u001b[K\r",
      "remote: Counting objects:  91% (65/71)   \u001b[K\r",
      "remote: Counting objects:  92% (66/71)   \u001b[K\r",
      "remote: Counting objects:  94% (67/71)   \u001b[K\r",
      "remote: Counting objects:  95% (68/71)   \u001b[K\r",
      "remote: Counting objects:  97% (69/71)   \u001b[K\r",
      "remote: Counting objects:  98% (70/71)   \u001b[K\r",
      "remote: Counting objects: 100% (71/71)   \u001b[K\r",
      "remote: Counting objects: 100% (71/71), done.\u001b[K\n",
      "remote: Compressing objects:   1% (1/65)   \u001b[K\r",
      "remote: Compressing objects:   3% (2/65)   \u001b[K\r",
      "remote: Compressing objects:   4% (3/65)   \u001b[K\r",
      "remote: Compressing objects:   6% (4/65)   \u001b[K\r",
      "remote: Compressing objects:   7% (5/65)   \u001b[K\r",
      "remote: Compressing objects:   9% (6/65)   \u001b[K\r",
      "remote: Compressing objects:  10% (7/65)   \u001b[K\r",
      "remote: Compressing objects:  12% (8/65)   \u001b[K\r",
      "remote: Compressing objects:  13% (9/65)   \u001b[K\r",
      "remote: Compressing objects:  15% (10/65)   \u001b[K\r",
      "remote: Compressing objects:  16% (11/65)   \u001b[K\r",
      "remote: Compressing objects:  18% (12/65)   \u001b[K\r",
      "remote: Compressing objects:  20% (13/65)   \u001b[K\r",
      "remote: Compressing objects:  21% (14/65)   \u001b[K\r",
      "remote: Compressing objects:  23% (15/65)   \u001b[K\r",
      "remote: Compressing objects:  24% (16/65)   \u001b[K\r",
      "remote: Compressing objects:  26% (17/65)   \u001b[K\r",
      "remote: Compressing objects:  27% (18/65)   \u001b[K\r",
      "remote: Compressing objects:  29% (19/65)   \u001b[K\r",
      "remote: Compressing objects:  30% (20/65)   \u001b[K\r",
      "remote: Compressing objects:  32% (21/65)   \u001b[K\r",
      "remote: Compressing objects:  33% (22/65)   \u001b[K\r",
      "remote: Compressing objects:  35% (23/65)   \u001b[K\r",
      "remote: Compressing objects:  36% (24/65)   \u001b[K\r",
      "remote: Compressing objects:  38% (25/65)   \u001b[K\r",
      "remote: Compressing objects:  40% (26/65)   \u001b[K\r",
      "remote: Compressing objects:  41% (27/65)   \u001b[K\r",
      "remote: Compressing objects:  43% (28/65)   \u001b[K\r",
      "remote: Compressing objects:  44% (29/65)   \u001b[K\r",
      "remote: Compressing objects:  46% (30/65)   \u001b[K\r",
      "remote: Compressing objects:  47% (31/65)   \u001b[K\r",
      "remote: Compressing objects:  49% (32/65)   \u001b[K\r",
      "remote: Compressing objects:  50% (33/65)   \u001b[K\r",
      "remote: Compressing objects:  52% (34/65)   \u001b[K\r",
      "remote: Compressing objects:  53% (35/65)   \u001b[K\r",
      "remote: Compressing objects:  55% (36/65)   \u001b[K\r",
      "remote: Compressing objects:  56% (37/65)   \u001b[K\r",
      "remote: Compressing objects:  58% (38/65)   \u001b[K\r",
      "remote: Compressing objects:  60% (39/65)   \u001b[K\r",
      "remote: Compressing objects:  61% (40/65)   \u001b[K\r",
      "remote: Compressing objects:  63% (41/65)   \u001b[K\r",
      "remote: Compressing objects:  64% (42/65)   \u001b[K\r",
      "remote: Compressing objects:  66% (43/65)   \u001b[K\r",
      "remote: Compressing objects:  67% (44/65)   \u001b[K\r",
      "remote: Compressing objects:  69% (45/65)   \u001b[K\r",
      "remote: Compressing objects:  70% (46/65)   \u001b[K\r",
      "remote: Compressing objects:  72% (47/65)   \u001b[K\r",
      "remote: Compressing objects:  73% (48/65)   \u001b[K\r",
      "remote: Compressing objects:  75% (49/65)   \u001b[K\r",
      "remote: Compressing objects:  76% (50/65)   \u001b[K\r",
      "remote: Compressing objects:  78% (51/65)   \u001b[K\r",
      "remote: Compressing objects:  80% (52/65)   \u001b[K\r",
      "remote: Compressing objects:  81% (53/65)   \u001b[K\r",
      "remote: Compressing objects:  83% (54/65)   \u001b[K\r",
      "remote: Compressing objects:  84% (55/65)   \u001b[K\r",
      "remote: Compressing objects:  86% (56/65)   \u001b[K\r",
      "remote: Compressing objects:  87% (57/65)   \u001b[K\r",
      "remote: Compressing objects:  89% (58/65)   \u001b[K\r",
      "remote: Compressing objects:  90% (59/65)   \u001b[K\r",
      "remote: Compressing objects:  92% (60/65)   \u001b[K\r",
      "remote: Compressing objects:  93% (61/65)   \u001b[K\r",
      "remote: Compressing objects:  95% (62/65)   \u001b[K\r",
      "remote: Compressing objects:  96% (63/65)   \u001b[K\r",
      "remote: Compressing objects:  98% (64/65)   \u001b[K\r",
      "remote: Compressing objects: 100% (65/65)   \u001b[K\r",
      "remote: Compressing objects: 100% (65/65), done.\u001b[K\n",
      "remote: Total 71 (delta 40), reused 31 (delta 4), pack-reused 0\u001b[K\n",
      "Unpacking objects:   1% (1/71)   \r",
      "Unpacking objects:   2% (2/71)   \r",
      "Unpacking objects:   4% (3/71)   \r",
      "Unpacking objects:   5% (4/71)   \r",
      "Unpacking objects:   7% (5/71)   \r",
      "Unpacking objects:   8% (6/71)   \r",
      "Unpacking objects:   9% (7/71)   \r",
      "Unpacking objects:  11% (8/71)   \r",
      "Unpacking objects:  12% (9/71)   \r",
      "Unpacking objects:  14% (10/71)   \r",
      "Unpacking objects:  15% (11/71)   \r",
      "Unpacking objects:  16% (12/71)   \r",
      "Unpacking objects:  18% (13/71)   \r",
      "Unpacking objects:  19% (14/71)   \r",
      "Unpacking objects:  21% (15/71)   \r",
      "Unpacking objects:  22% (16/71)   \r",
      "Unpacking objects:  23% (17/71)   \r",
      "Unpacking objects:  25% (18/71)   \r",
      "Unpacking objects:  26% (19/71)   \r",
      "Unpacking objects:  28% (20/71)   \r",
      "Unpacking objects:  29% (21/71)   \r",
      "Unpacking objects:  30% (22/71)   \r",
      "Unpacking objects:  32% (23/71)   \r",
      "Unpacking objects:  33% (24/71)   \r",
      "Unpacking objects:  35% (25/71)   \r",
      "Unpacking objects:  36% (26/71)   \r",
      "Unpacking objects:  38% (27/71)   \r",
      "Unpacking objects:  39% (28/71)   \r",
      "Unpacking objects:  40% (29/71)   \r",
      "Unpacking objects:  42% (30/71)   \r",
      "Unpacking objects:  43% (31/71)   \r",
      "Unpacking objects:  45% (32/71)   \r",
      "Unpacking objects:  46% (33/71)   \r",
      "Unpacking objects:  47% (34/71)   \r",
      "Unpacking objects:  49% (35/71)   \r",
      "Unpacking objects:  50% (36/71)   \r",
      "Unpacking objects:  52% (37/71)   \r",
      "Unpacking objects:  53% (38/71)   \r",
      "Unpacking objects:  54% (39/71)   \r",
      "Unpacking objects:  56% (40/71)   \r",
      "Unpacking objects:  57% (41/71)   \r",
      "Unpacking objects:  59% (42/71)   \r",
      "Unpacking objects:  60% (43/71)   \r",
      "Unpacking objects:  61% (44/71)   \r",
      "Unpacking objects:  63% (45/71)   \r",
      "Unpacking objects:  64% (46/71)   \r",
      "Unpacking objects:  66% (47/71)   \r",
      "Unpacking objects:  67% (48/71)   \r",
      "Unpacking objects:  69% (49/71)   \r",
      "Unpacking objects:  70% (50/71)   \r",
      "Unpacking objects:  71% (51/71)   \r",
      "Unpacking objects:  73% (52/71)   \r",
      "Unpacking objects:  74% (53/71)   \r",
      "Unpacking objects:  76% (54/71)   \r",
      "Unpacking objects:  77% (55/71)   \r",
      "Unpacking objects:  78% (56/71)   \r",
      "Unpacking objects:  80% (57/71)   \r",
      "Unpacking objects:  81% (58/71)   \r",
      "Unpacking objects:  83% (59/71)   \r",
      "Unpacking objects:  84% (60/71)   \r",
      "Unpacking objects:  85% (61/71)   \r",
      "Unpacking objects:  87% (62/71)   \r",
      "Unpacking objects:  88% (63/71)   \r",
      "Unpacking objects:  90% (64/71)   \r",
      "Unpacking objects:  91% (65/71)   \r",
      "Unpacking objects:  92% (66/71)   \r",
      "Unpacking objects:  94% (67/71)   \r",
      "Unpacking objects:  95% (68/71)   \r",
      "Unpacking objects:  97% (69/71)   \r",
      "Unpacking objects:  98% (70/71)   \r",
      "Unpacking objects: 100% (71/71)   \r",
      "Unpacking objects: 100% (71/71), done.\n",
      "Collecting airtable\n",
      "  Downloading https://files.pythonhosted.org/packages/a8/ef/8b2bee11988bb1b4df41454a999f855bd568a74b8b58fd92279bfb50fb56/airtable-0.3.1.tar.gz\n",
      "Requirement already satisfied: requests>=2.5.3 in /usr/local/lib/python3.6/dist-packages (from airtable) (2.18.4)\n",
      "Requirement already satisfied: chardet<3.1.0,>=3.0.2 in /usr/local/lib/python3.6/dist-packages (from requests>=2.5.3->airtable) (3.0.4)\n",
      "Requirement already satisfied: urllib3<1.23,>=1.21.1 in /usr/local/lib/python3.6/dist-packages (from requests>=2.5.3->airtable) (1.22)\n",
      "Requirement already satisfied: certifi>=2017.4.17 in /usr/local/lib/python3.6/dist-packages (from requests>=2.5.3->airtable) (2018.11.29)\n",
      "Requirement already satisfied: idna<2.7,>=2.5 in /usr/local/lib/python3.6/dist-packages (from requests>=2.5.3->airtable) (2.6)\n",
      "Building wheels for collected packages: airtable\n",
      "  Running setup.py bdist_wheel for airtable ... \u001b[?25l-\b \bdone\n",
      "\u001b[?25h  Stored in directory: /root/.cache/pip/wheels/9b/ba/63/364c02fabcd50ef6e2f101a57feb727bd7a693697765a9df17\n",
      "Successfully built airtable\n",
      "Installing collected packages: airtable\n",
      "Successfully installed airtable-0.3.1\n"
     ]
    }
   ],
   "source": [
    "!git clone https://github.com/GabrielePicco/deep-learning-flower-identifier\n",
    "!pip install airtable\n",
    "import sys\n",
    "sys.path.insert(0, 'deep-learning-flower-identifier')"
   ]
  },
  {
   "cell_type": "code",
   "execution_count": 30,
   "metadata": {
    "_uuid": "d9ec0309453115326148e9481ced7863a9124ead",
    "colab": {
     "base_uri": "https://localhost:8080/",
     "height": 527
    },
    "colab_type": "code",
    "id": "pxhw_5QERSCo",
    "outputId": "a26b7a4d-8a2d-4ea0-c42d-ff9af09358d0"
   },
   "outputs": [
    {
     "name": "stdout",
     "output_type": "stream",
     "text": [
      "Downloading the dataset from: https://www.dropbox.com/s/da6ye9genbsdzbq/flower_data_original_test.zip?dl=1\n"
     ]
    },
    {
     "name": "stderr",
     "output_type": "stream",
     "text": [
      "100.0% 35053568 / 35050314\n"
     ]
    },
    {
     "name": "stdout",
     "output_type": "stream",
     "text": [
      "Batch accuracy (Size 32): 0.90625\n",
      "Batch accuracy (Size 32): 0.875\n",
      "Batch accuracy (Size 32): 0.78125\n",
      "Batch accuracy (Size 32): 0.75\n",
      "Batch accuracy (Size 32): 0.78125\n",
      "Batch accuracy (Size 32): 0.875\n",
      "Batch accuracy (Size 32): 0.8125\n",
      "Batch accuracy (Size 32): 0.84375\n",
      "Batch accuracy (Size 32): 0.6875\n",
      "Batch accuracy (Size 32): 0.9375\n",
      "Batch accuracy (Size 32): 0.9375\n",
      "Batch accuracy (Size 32): 0.75\n",
      "Batch accuracy (Size 32): 0.8125\n",
      "Batch accuracy (Size 32): 0.84375\n",
      "Batch accuracy (Size 32): 0.84375\n",
      "Batch accuracy (Size 32): 0.75\n",
      "Batch accuracy (Size 32): 0.8125\n",
      "Batch accuracy (Size 32): 0.8125\n",
      "Batch accuracy (Size 32): 0.75\n",
      "Batch accuracy (Size 32): 0.84375\n",
      "Batch accuracy (Size 32): 0.875\n",
      "Batch accuracy (Size 32): 0.90625\n",
      "Batch accuracy (Size 32): 0.96875\n",
      "Batch accuracy (Size 32): 0.875\n",
      "Batch accuracy (Size 32): 0.90625\n",
      "Batch accuracy (Size 32): 0.8421052694320679\n",
      "Mean accuracy: 0.8376771211624146\n"
     ]
    },
    {
     "data": {
      "text/plain": [
       "0.8376771"
      ]
     },
     "execution_count": 30,
     "metadata": {
      "tags": []
     },
     "output_type": "execute_result"
    }
   ],
   "source": [
    "from test_model_pytorch_facebook_challenge import calc_accuracy\n",
    "calc_accuracy(model, input_image_size=224, use_google_testset=False)"
   ]
  }
 ],
 "metadata": {
  "accelerator": "GPU",
  "colab": {
   "collapsed_sections": [],
   "name": "resnet18 udacity-pytorch-challenge.ipynb",
   "provenance": [],
   "toc_visible": true,
   "version": "0.3.2"
  },
  "kernelspec": {
   "display_name": "Python 3",
   "language": "python",
   "name": "python3"
  },
  "language_info": {
   "codemirror_mode": {
    "name": "ipython",
    "version": 3
   },
   "file_extension": ".py",
   "mimetype": "text/x-python",
   "name": "python",
   "nbconvert_exporter": "python",
   "pygments_lexer": "ipython3",
   "version": "3.6.5"
  }
 },
 "nbformat": 4,
 "nbformat_minor": 1
}
